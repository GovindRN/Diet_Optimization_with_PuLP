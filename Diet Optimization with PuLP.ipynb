{
 "cells": [
  {
   "cell_type": "markdown",
   "id": "894ee37a",
   "metadata": {},
   "source": [
    "## Diet Optimization with PuLP"
   ]
  },
  {
   "cell_type": "markdown",
   "id": "ad43114d",
   "metadata": {},
   "source": [
    "#### Importing the necessary libraries"
   ]
  },
  {
   "cell_type": "code",
   "execution_count": 1,
   "id": "thrown-article",
   "metadata": {},
   "outputs": [],
   "source": [
    "from pulp import *\n"
   ]
  },
  {
   "cell_type": "code",
   "execution_count": 2,
   "id": "armed-multiple",
   "metadata": {},
   "outputs": [],
   "source": [
    "import numpy as np\n",
    "import pandas as pd"
   ]
  },
  {
   "cell_type": "markdown",
   "id": "648d2c9d",
   "metadata": {},
   "source": [
    "#### Lets import the data set into a dataframe and create dictionary for each nutrient type along with the cost. Each of there dictionary would associate each nutirent with food item."
   ]
  },
  {
   "cell_type": "code",
   "execution_count": 3,
   "id": "6f9a0ce2",
   "metadata": {},
   "outputs": [],
   "source": [
    "df = pd.read_excel(\"diet.xls\",nrows = 64)\n",
    "\n",
    "# Create a list of the food items\n",
    "food_items = list(df['Foods'])\n",
    "\n",
    "# Create a dictinary of costs for all food items\n",
    "costs = dict(zip(food_items,df['Price/ Serving']))\n",
    "\n",
    "# Create a dictionary of calories for all food items\n",
    "calories = dict(zip(food_items,df['Calories']))\n",
    "\n",
    "# Create a dictionary of cholesterol for all food items\n",
    "cholesterol = dict(zip(food_items,df['Cholesterol mg']))\n",
    "\n",
    "# Create a dictionary of total fat for all food items\n",
    "fat = dict(zip(food_items,df['Total_Fat g']))\n",
    "\n",
    "# Create a dictionary of total sodium for all food items\n",
    "sodium = dict(zip(food_items,df['Sodium mg']))\n",
    "\n",
    "# Create a dictionary of carbohydrates for all food items\n",
    "carbs = dict(zip(food_items,df['Carbohydrates g']))\n",
    "\n",
    "# Create a dictinary of dietary fibers for all food items\n",
    "dietary_fibers = dict(zip(food_items,df['Dietary_Fiber g']))\n",
    "\n",
    "# Create a dictionary of proteins for all food items\n",
    "proteins = dict(zip(food_items,df['Protein g']))\n",
    "\n",
    "# Create a dictionary of total Vitamin A for all food items\n",
    "vitA = dict(zip(food_items,df['Vit_A IU']))\n",
    "\n",
    "# Create a dictionary of total Vitamin C for all food items\n",
    "vitC = dict(zip(food_items,df['Vit_C IU']))\n",
    "\n",
    "# Create a dictionary of calcium for all food items\n",
    "calcium = dict(zip(food_items,df['Calcium mg']))\n",
    "\n",
    "# Create a dictionary of Iron for all food items\n",
    "iron = dict(zip(food_items,df['Iron mg']))\n",
    "\n"
   ]
  },
  {
   "cell_type": "code",
   "execution_count": 4,
   "id": "ca88f64e",
   "metadata": {
    "scrolled": true
   },
   "outputs": [
    {
     "data": {
      "text/html": [
       "<div>\n",
       "<style scoped>\n",
       "    .dataframe tbody tr th:only-of-type {\n",
       "        vertical-align: middle;\n",
       "    }\n",
       "\n",
       "    .dataframe tbody tr th {\n",
       "        vertical-align: top;\n",
       "    }\n",
       "\n",
       "    .dataframe thead th {\n",
       "        text-align: right;\n",
       "    }\n",
       "</style>\n",
       "<table border=\"1\" class=\"dataframe\">\n",
       "  <thead>\n",
       "    <tr style=\"text-align: right;\">\n",
       "      <th></th>\n",
       "      <th>Foods</th>\n",
       "      <th>Price/ Serving</th>\n",
       "      <th>Serving Size</th>\n",
       "      <th>Calories</th>\n",
       "      <th>Cholesterol mg</th>\n",
       "      <th>Total_Fat g</th>\n",
       "      <th>Sodium mg</th>\n",
       "      <th>Carbohydrates g</th>\n",
       "      <th>Dietary_Fiber g</th>\n",
       "      <th>Protein g</th>\n",
       "      <th>Vit_A IU</th>\n",
       "      <th>Vit_C IU</th>\n",
       "      <th>Calcium mg</th>\n",
       "      <th>Iron mg</th>\n",
       "    </tr>\n",
       "  </thead>\n",
       "  <tbody>\n",
       "    <tr>\n",
       "      <th>0</th>\n",
       "      <td>Frozen Broccoli</td>\n",
       "      <td>0.16</td>\n",
       "      <td>10 Oz Pkg</td>\n",
       "      <td>73.8</td>\n",
       "      <td>0.0</td>\n",
       "      <td>0.8</td>\n",
       "      <td>68.2</td>\n",
       "      <td>13.6</td>\n",
       "      <td>8.5</td>\n",
       "      <td>8.0</td>\n",
       "      <td>5867.4</td>\n",
       "      <td>160.2</td>\n",
       "      <td>159.0</td>\n",
       "      <td>2.3</td>\n",
       "    </tr>\n",
       "    <tr>\n",
       "      <th>1</th>\n",
       "      <td>Carrots,Raw</td>\n",
       "      <td>0.07</td>\n",
       "      <td>1/2 Cup Shredded</td>\n",
       "      <td>23.7</td>\n",
       "      <td>0.0</td>\n",
       "      <td>0.1</td>\n",
       "      <td>19.2</td>\n",
       "      <td>5.6</td>\n",
       "      <td>1.6</td>\n",
       "      <td>0.6</td>\n",
       "      <td>15471.0</td>\n",
       "      <td>5.1</td>\n",
       "      <td>14.9</td>\n",
       "      <td>0.3</td>\n",
       "    </tr>\n",
       "    <tr>\n",
       "      <th>2</th>\n",
       "      <td>Celery, Raw</td>\n",
       "      <td>0.04</td>\n",
       "      <td>1 Stalk</td>\n",
       "      <td>6.4</td>\n",
       "      <td>0.0</td>\n",
       "      <td>0.1</td>\n",
       "      <td>34.8</td>\n",
       "      <td>1.5</td>\n",
       "      <td>0.7</td>\n",
       "      <td>0.3</td>\n",
       "      <td>53.6</td>\n",
       "      <td>2.8</td>\n",
       "      <td>16.0</td>\n",
       "      <td>0.2</td>\n",
       "    </tr>\n",
       "    <tr>\n",
       "      <th>3</th>\n",
       "      <td>Frozen Corn</td>\n",
       "      <td>0.18</td>\n",
       "      <td>1/2 Cup</td>\n",
       "      <td>72.2</td>\n",
       "      <td>0.0</td>\n",
       "      <td>0.6</td>\n",
       "      <td>2.5</td>\n",
       "      <td>17.1</td>\n",
       "      <td>2.0</td>\n",
       "      <td>2.5</td>\n",
       "      <td>106.6</td>\n",
       "      <td>5.2</td>\n",
       "      <td>3.3</td>\n",
       "      <td>0.3</td>\n",
       "    </tr>\n",
       "    <tr>\n",
       "      <th>4</th>\n",
       "      <td>Lettuce,Iceberg,Raw</td>\n",
       "      <td>0.02</td>\n",
       "      <td>1 Leaf</td>\n",
       "      <td>2.6</td>\n",
       "      <td>0.0</td>\n",
       "      <td>0.0</td>\n",
       "      <td>1.8</td>\n",
       "      <td>0.4</td>\n",
       "      <td>0.3</td>\n",
       "      <td>0.2</td>\n",
       "      <td>66.0</td>\n",
       "      <td>0.8</td>\n",
       "      <td>3.8</td>\n",
       "      <td>0.1</td>\n",
       "    </tr>\n",
       "  </tbody>\n",
       "</table>\n",
       "</div>"
      ],
      "text/plain": [
       "                 Foods  Price/ Serving      Serving Size  Calories  \\\n",
       "0      Frozen Broccoli            0.16         10 Oz Pkg      73.8   \n",
       "1          Carrots,Raw            0.07  1/2 Cup Shredded      23.7   \n",
       "2          Celery, Raw            0.04           1 Stalk       6.4   \n",
       "3          Frozen Corn            0.18           1/2 Cup      72.2   \n",
       "4  Lettuce,Iceberg,Raw            0.02            1 Leaf       2.6   \n",
       "\n",
       "   Cholesterol mg  Total_Fat g  Sodium mg  Carbohydrates g  Dietary_Fiber g  \\\n",
       "0             0.0          0.8       68.2             13.6              8.5   \n",
       "1             0.0          0.1       19.2              5.6              1.6   \n",
       "2             0.0          0.1       34.8              1.5              0.7   \n",
       "3             0.0          0.6        2.5             17.1              2.0   \n",
       "4             0.0          0.0        1.8              0.4              0.3   \n",
       "\n",
       "   Protein g  Vit_A IU  Vit_C IU  Calcium mg  Iron mg  \n",
       "0        8.0    5867.4     160.2       159.0      2.3  \n",
       "1        0.6   15471.0       5.1        14.9      0.3  \n",
       "2        0.3      53.6       2.8        16.0      0.2  \n",
       "3        2.5     106.6       5.2         3.3      0.3  \n",
       "4        0.2      66.0       0.8         3.8      0.1  "
      ]
     },
     "execution_count": 4,
     "metadata": {},
     "output_type": "execute_result"
    }
   ],
   "source": [
    "df.head()"
   ]
  },
  {
   "cell_type": "markdown",
   "id": "32763da0",
   "metadata": {},
   "source": [
    "#### Lets use LpProblem function of the pulp package to find the minimum cost. "
   ]
  },
  {
   "cell_type": "code",
   "execution_count": 5,
   "id": "629fb068",
   "metadata": {},
   "outputs": [],
   "source": [
    "prob = LpProblem(\"DietProblem\",LpMinimize)"
   ]
  },
  {
   "cell_type": "markdown",
   "id": "60a55b7a",
   "metadata": {},
   "source": [
    "#### Below variables list the food items and food items selected for the diet plan."
   ]
  },
  {
   "cell_type": "code",
   "execution_count": 6,
   "id": "edb492ae",
   "metadata": {},
   "outputs": [],
   "source": [
    "food_vars = LpVariable.dicts(\"Food\",food_items,lowBound=0,cat='Continuous')\n",
    "food_vars_selected = LpVariable.dicts(\"Selected\",food_items,cat=\"Binary\")"
   ]
  },
  {
   "cell_type": "markdown",
   "id": "e0027e42",
   "metadata": {},
   "source": [
    "#### Next step is to calculate the total cost of diet plan and include the maximum and minimum values of nutirents as constraints."
   ]
  },
  {
   "cell_type": "code",
   "execution_count": 7,
   "id": "a675330d",
   "metadata": {},
   "outputs": [],
   "source": [
    "# Cost\n",
    "prob += lpSum([costs[i]*food_vars[i] for i in food_items]), \"Cost\"\n",
    "\n",
    "# Calories\n",
    "prob += lpSum([calories[f] * food_vars[f] for f in food_items]) >= 1500.0, \"CalMin\"\n",
    "prob += lpSum([calories[f] * food_vars[f] for f in food_items]) <= 2500.0, \"CalMax\"\n",
    "\n",
    "# Cholesterol\n",
    "prob += lpSum([cholesterol[f] * food_vars[f] for f in food_items]) >= 30.0, \"CholesterolMin\"\n",
    "prob += lpSum([cholesterol[f] * food_vars[f] for f in food_items]) <= 240.0, \"CholesterolMax\"\n",
    "\n",
    "# Fat\n",
    "prob += lpSum([fat[f] * food_vars[f] for f in food_items]) >= 20.0, \"FatMin\"\n",
    "prob += lpSum([fat[f] * food_vars[f] for f in food_items]) <= 70.0, \"FatMax\"\n",
    "\n",
    "# Sodium\n",
    "prob += lpSum([sodium[f] * food_vars[f] for f in food_items]) >= 800.0, \"SodiumMin\"\n",
    "prob += lpSum([sodium[f] * food_vars[f] for f in food_items]) <= 2000.0, \"SodiumMax\"\n",
    "\n",
    "# Carbs\n",
    "prob += lpSum([carbs[f] * food_vars[f] for f in food_items]) >= 130.0, \"CarbsMin\"\n",
    "prob += lpSum([carbs[f] * food_vars[f] for f in food_items]) <= 450.0, \"CarbsMax\"\n",
    "\n",
    "# dietary_fibers\n",
    "prob += lpSum([dietary_fibers[f] * food_vars[f] for f in food_items]) >= 125.0, \"DietaryFibersMin\"\n",
    "prob += lpSum([dietary_fibers[f] * food_vars[f] for f in food_items]) <= 250.0, \"DietaryFibersMax\"\n",
    "\n",
    "# proteins\n",
    "prob += lpSum([proteins[f] * food_vars[f] for f in food_items]) >= 60.0, \"ProteinsMin\"\n",
    "prob += lpSum([proteins[f] * food_vars[f] for f in food_items]) <= 100.0, \"ProteinsMax\"\n",
    "\n",
    "# vitA\n",
    "prob += lpSum([vitA[f] * food_vars[f] for f in food_items]) >= 1000.0, \"VitAMin\"\n",
    "prob += lpSum([vitA[f] * food_vars[f] for f in food_items]) <= 10000.0, \"VitAMax\"\n",
    "\n",
    "# vitC\n",
    "prob += lpSum([vitC[f] * food_vars[f] for f in food_items]) >= 400.0, \"VitCMin\"\n",
    "prob += lpSum([vitC[f] * food_vars[f] for f in food_items]) <= 500.0, \"VitCMax\"\n",
    "\n",
    "# calcium\n",
    "prob += lpSum([calcium[f] * food_vars[f] for f in food_items]) >= 700.0, \"CalciumMin\"\n",
    "prob += lpSum([calcium[f] * food_vars[f] for f in food_items]) <= 1500.0, \"CalciumMax\"\n",
    "\n",
    "# iron\n",
    "prob += lpSum([iron[f] * food_vars[f] for f in food_items]) >= 10.0, \"IronMin\"\n",
    "prob += lpSum([iron[f] * food_vars[f] for f in food_items]) <= 40.0, \"IronMax\""
   ]
  },
  {
   "cell_type": "markdown",
   "id": "b84b825f",
   "metadata": {},
   "source": [
    "#### With the cost and constraints added to the PuLP model problem, lets now try solving it."
   ]
  },
  {
   "cell_type": "code",
   "execution_count": 8,
   "id": "1918476e",
   "metadata": {},
   "outputs": [
    {
     "name": "stdout",
     "output_type": "stream",
     "text": [
      "Status: Optimal\n"
     ]
    }
   ],
   "source": [
    "prob.solve()\n",
    "print(\"Status:\", LpStatus[prob.status])"
   ]
  },
  {
   "cell_type": "markdown",
   "id": "32fe1eec",
   "metadata": {},
   "source": [
    "The solution status above is shown as optimal."
   ]
  },
  {
   "cell_type": "markdown",
   "id": "831920a1",
   "metadata": {},
   "source": [
    "#### Below we could see the food item selected and its corresponding serving size values."
   ]
  },
  {
   "cell_type": "code",
   "execution_count": 9,
   "id": "e48eada7",
   "metadata": {},
   "outputs": [
    {
     "name": "stdout",
     "output_type": "stream",
     "text": [
      "Food_Celery,_Raw - 52.64371\n",
      "Food_Frozen_Broccoli - 0.25960653\n",
      "Food_Lettuce,Iceberg,Raw - 63.988506\n",
      "Food_Oranges - 2.2929389\n",
      "Food_Poached_Eggs - 0.14184397\n",
      "Food_Popcorn,Air_Popped - 13.869322\n"
     ]
    }
   ],
   "source": [
    "for v in prob.variables():\n",
    "    if v.varValue>0:\n",
    "        print(v.name, \"-\", v.varValue)"
   ]
  },
  {
   "cell_type": "markdown",
   "id": "4d5f07bd",
   "metadata": {},
   "source": [
    "#### The cost of the balanced diet is given below"
   ]
  },
  {
   "cell_type": "code",
   "execution_count": 10,
   "id": "07dff7d6",
   "metadata": {},
   "outputs": [
    {
     "name": "stdout",
     "output_type": "stream",
     "text": [
      "Cost: $4.34\n"
     ]
    }
   ],
   "source": [
    "cost1 = value(prob.objective)\n",
    "print(\"Cost: ${}\".format(round(cost1,2)))"
   ]
  },
  {
   "cell_type": "markdown",
   "id": "37d0c97d",
   "metadata": {},
   "source": [
    "The below code calculates total number of food items selected which belong to one of meat/poultry/fish/eggs."
   ]
  },
  {
   "cell_type": "code",
   "execution_count": 11,
   "id": "5da5738d",
   "metadata": {},
   "outputs": [],
   "source": [
    "#food items of which atleat 3 is required\n",
    "category = ['Poached Eggs', 'Scrambled Eggs','Roasted Chicken','Bologna,Turkey', 'Chicknoodl Soup',\n",
    "                             'Frankfurter, Beef','Ham,Sliced,Extralean','Kielbasa,Prk','Pizza W/Pepperoni',\n",
    "                             'Hamburger W/Toppings','Hotdog, Plain','Pork','Splt Pea&Hamsoup','Vegetbeef Soup',\n",
    "                             'Beanbacn Soup,W/Watr','Sardines in Oil','White Tuna in Water','Neweng Clamchwd',\n",
    "                             'New E Clamchwd,W/Mlk']\n",
    "typesum = 0\n",
    "for f in category:\n",
    "    typesum += food_vars_selected[f]"
   ]
  },
  {
   "cell_type": "markdown",
   "id": "18852d3e",
   "metadata": {},
   "source": [
    "#### Lets add the following constraints:\n",
    "    1. Value of food items is more than 0 as there is no negative value in food intake.\n",
    "    2. If a food is selected, then a minimum of 1/10 serving must be chosen. Upper limit is provided for maximum serving.\n",
    "    3. At most only one of Celery or Frozen Broccoli should be selected.\n",
    "    4. The total number of food items selected which belong to one of meat/poultry/fish/eggs must be at least 3."
   ]
  },
  {
   "cell_type": "code",
   "execution_count": 12,
   "id": "08ed70c2",
   "metadata": {},
   "outputs": [],
   "source": [
    "for f in food_items:\n",
    "    prob += food_vars[f] >= 0\n",
    "    prob += food_vars[f] - (1/10) * food_vars_selected[f] >= 0\n",
    "    prob += food_vars[f] -  (10**3) * food_vars_selected[f] <= 0\n",
    "prob += food_vars_selected['Frozen Broccoli'] == 1 - food_vars_selected['Celery, Raw'], \"Celery/Brocoli\"\n",
    "prob += typesum >= 3, \">=3NonVeg\""
   ]
  },
  {
   "cell_type": "markdown",
   "id": "e5b5d6a8",
   "metadata": {},
   "source": [
    "#### With the cost and constraints added to the PuLP model problem, lets not try solving it."
   ]
  },
  {
   "cell_type": "code",
   "execution_count": 13,
   "id": "4e912042",
   "metadata": {
    "scrolled": true
   },
   "outputs": [
    {
     "name": "stdout",
     "output_type": "stream",
     "text": [
      "Status: Optimal\n"
     ]
    }
   ],
   "source": [
    "prob.solve()\n",
    "print(\"Status:\", LpStatus[prob.status])"
   ]
  },
  {
   "cell_type": "markdown",
   "id": "a0f90135",
   "metadata": {},
   "source": [
    "The solution status above is shown as optimal."
   ]
  },
  {
   "cell_type": "markdown",
   "id": "7ece4302",
   "metadata": {},
   "source": [
    "#### Below we could see the food item selected and its corresponding serving size values."
   ]
  },
  {
   "cell_type": "code",
   "execution_count": 14,
   "id": "ec6523f0",
   "metadata": {
    "scrolled": true
   },
   "outputs": [
    {
     "name": "stdout",
     "output_type": "stream",
     "text": [
      "Food_Celery,_Raw = 42.399358\n",
      "Food_Kielbasa,Prk = 0.1\n",
      "Food_Lettuce,Iceberg,Raw = 82.802586\n",
      "Food_Oranges = 3.0771841\n",
      "Food_Peanut_Butter = 1.9429716\n",
      "Food_Poached_Eggs = 0.1\n",
      "Food_Popcorn,Air_Popped = 13.223294\n",
      "Food_Scrambled_Eggs = 0.1\n",
      "Selected_Celery,_Raw = 1.0\n",
      "Selected_Kielbasa,Prk = 1.0\n",
      "Selected_Lettuce,Iceberg,Raw = 1.0\n",
      "Selected_Oranges = 1.0\n",
      "Selected_Peanut_Butter = 1.0\n",
      "Selected_Poached_Eggs = 1.0\n",
      "Selected_Popcorn,Air_Popped = 1.0\n",
      "Selected_Scrambled_Eggs = 1.0\n"
     ]
    }
   ],
   "source": [
    "for v in prob.variables():\n",
    "    if v.varValue>0 :#and 'Food' in v.name :\n",
    "        print(v.name, \"=\", v.varValue)"
   ]
  },
  {
   "cell_type": "markdown",
   "id": "3ea59f0c",
   "metadata": {},
   "source": [
    "#### The cost of the balanced diet is given below"
   ]
  },
  {
   "cell_type": "code",
   "execution_count": 15,
   "id": "c09a9609",
   "metadata": {
    "scrolled": true
   },
   "outputs": [
    {
     "name": "stdout",
     "output_type": "stream",
     "text": [
      "Cost: $4.51\n"
     ]
    }
   ],
   "source": [
    "cost2 = value(prob.objective)\n",
    "print(\"Cost: ${}\".format(round(cost2,2)))"
   ]
  },
  {
   "cell_type": "code",
   "execution_count": 16,
   "id": "88be2a9f",
   "metadata": {},
   "outputs": [
    {
     "name": "stdout",
     "output_type": "stream",
     "text": [
      "The cost has gone slightly up from $4.34 to $4.51 after adding the constraints. Also we are seeing more food items added after introducing the constraints.\n"
     ]
    }
   ],
   "source": [
    "print(\"The cost has gone slightly up from ${} to ${} after adding the constraints. Also we are seeing more food items added after introducing the constraints.\".format(round(cost1,2),round(cost2,2)))"
   ]
  }
 ],
 "metadata": {
  "kernelspec": {
   "display_name": "Python 3 (ipykernel)",
   "language": "python",
   "name": "python3"
  },
  "language_info": {
   "codemirror_mode": {
    "name": "ipython",
    "version": 3
   },
   "file_extension": ".py",
   "mimetype": "text/x-python",
   "name": "python",
   "nbconvert_exporter": "python",
   "pygments_lexer": "ipython3",
   "version": "3.11.3"
  }
 },
 "nbformat": 4,
 "nbformat_minor": 5
}
